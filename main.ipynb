{
  "nbformat": 4,
  "nbformat_minor": 0,
  "metadata": {
    "colab": {
      "name": "main.ipynb",
      "provenance": [],
      "authorship_tag": "ABX9TyMaOGfsIRh29vF2oG3LUaEg",
      "include_colab_link": true
    },
    "kernelspec": {
      "name": "python3",
      "display_name": "Python 3"
    },
    "language_info": {
      "name": "python"
    }
  },
  "cells": [
    {
      "cell_type": "markdown",
      "metadata": {
        "id": "view-in-github",
        "colab_type": "text"
      },
      "source": [
        "<a href=\"https://colab.research.google.com/github/tomo0608/GP_and_ML/blob/main/main.ipynb\" target=\"_parent\"><img src=\"https://colab.research.google.com/assets/colab-badge.svg\" alt=\"Open In Colab\"/></a>"
      ]
    },
    {
      "cell_type": "code",
      "execution_count": 2,
      "metadata": {
        "id": "h7TnRz5UO_Y5"
      },
      "outputs": [],
      "source": [
        "import numpy as np\n",
        "import matplotlib.pyplot as plt\n",
        "from pylab import *\n",
        "np.set_printoptions(precision=4, suppress=True)"
      ]
    },
    {
      "cell_type": "code",
      "source": [
        "! wget http://chasen.org/~daiti-m/gpbook/data/gpr-data.zip\n",
        "! unzip -j -o gpr-data.zip"
      ],
      "metadata": {
        "colab": {
          "base_uri": "https://localhost:8080/"
        },
        "id": "HpW7_TgnS3T7",
        "outputId": "7ab5eebb-a22a-4cc3-e5a7-88edbfdd2e7b"
      },
      "execution_count": 3,
      "outputs": [
        {
          "output_type": "stream",
          "name": "stdout",
          "text": [
            "--2021-12-10 12:22:59--  http://chasen.org/~daiti-m/gpbook/data/gpr-data.zip\n",
            "Resolving chasen.org (chasen.org)... 160.16.121.64\n",
            "Connecting to chasen.org (chasen.org)|160.16.121.64|:80... connected.\n",
            "HTTP request sent, awaiting response... 200 OK\n",
            "Length: 304811 (298K) [application/zip]\n",
            "Saving to: ‘gpr-data.zip’\n",
            "\n",
            "gpr-data.zip        100%[===================>] 297.67K   484KB/s    in 0.6s    \n",
            "\n",
            "2021-12-10 12:23:00 (484 KB/s) - ‘gpr-data.zip’ saved [304811/304811]\n",
            "\n",
            "Archive:  gpr-data.zip\n",
            "  inflating: crimes.data.txt         \n",
            "  inflating: crimes.names.txt        \n",
            "  inflating: forest-fires.csv        \n",
            "  inflating: forest-fires.names      \n",
            "  inflating: forest.dat              \n",
            "  inflating: gpr.dat                 \n",
            "  inflating: mauna-loa.dat           \n",
            " extracting: simple1.dat             \n",
            "  inflating: simple2.dat             \n"
          ]
        }
      ]
    },
    {
      "cell_type": "code",
      "source": [
        "def linear_model(X):\n",
        "  N = len(X)\n",
        "  y = X[:, 0]\n",
        "  X = np.vstack([np.ones(N), X[:,1]]).T\n",
        "  w = inv(X.T.dot(X)).dot(X.T).dot(y)\n",
        "  return w"
      ],
      "metadata": {
        "id": "Jf6PvW5jS_VT"
      },
      "execution_count": 4,
      "outputs": []
    },
    {
      "cell_type": "code",
      "source": [
        "def simple_plot (X):\n",
        "  xmin,xmax = -5,5\n",
        "  ymin,ymax = -5,5\n",
        "  plt.scatter(X[:,1],X[:,0],marker='x',s=80)\n",
        "  plt.plot([xmin,xmax],[0,0],'k',linewidth=1)\n",
        "  plt.plot([0,0],[ymin,ymax],'k',linewidth=1)\n",
        "  plt.axis([xmin,xmax,ymin,ymax])"
      ],
      "metadata": {
        "id": "BAND7OmSVB30"
      },
      "execution_count": 5,
      "outputs": []
    },
    {
      "cell_type": "code",
      "source": [
        "def lm_plot(X):\n",
        "  xmin,xmax = -5,5\n",
        "  ymin,ymax = -5,5\n",
        "  simple_plot(X)\n",
        "  w = linear_model(X)\n",
        "  M = 20\n",
        "  xx = linspace(xmin,xmax,M)\n",
        "  yy =[w[0]+w[1]*x for x in xx]\n",
        "  plt.plot (xx,yy)\n",
        "  gca().set_aspect(1)\n",
        "  print(w)"
      ],
      "metadata": {
        "id": "NxuAc7diTrVV"
      },
      "execution_count": 9,
      "outputs": []
    },
    {
      "cell_type": "code",
      "source": [
        "X = np.loadtxt('simple1.dat')\n",
        "print(X)"
      ],
      "metadata": {
        "colab": {
          "base_uri": "https://localhost:8080/"
        },
        "id": "JxeB1XkaVKE8",
        "outputId": "65971252-f827-4717-d137-66f4a8eec0bd"
      },
      "execution_count": 7,
      "outputs": [
        {
          "output_type": "stream",
          "name": "stdout",
          "text": [
            "[[ 2.  3.]\n",
            " [ 4.  2.]\n",
            " [ 1. -1.]]\n"
          ]
        }
      ]
    },
    {
      "cell_type": "code",
      "source": [
        "lm_plot(X)"
      ],
      "metadata": {
        "colab": {
          "base_uri": "https://localhost:8080/",
          "height": 282
        },
        "id": "IOfhjQjtVPv3",
        "outputId": "8849b382-0779-4918-c103-b993db3e4c6f"
      },
      "execution_count": 10,
      "outputs": [
        {
          "output_type": "stream",
          "name": "stdout",
          "text": [
            "[1.7692 0.4231]\n"
          ]
        },
        {
          "output_type": "display_data",
          "data": {
            "image/png": "[encoded data removed]",
            "text/plain": [
              "<Figure size 432x288 with 1 Axes>"
            ]
          },
          "metadata": {
            "needs_background": "light"
          }
        }
      ]
    },
    {
      "cell_type": "code",
      "source": [
        "X2 = np.loadtxt('simple2.dat')\n",
        "lm_plot(X2)"
      ],
      "metadata": {
        "colab": {
          "base_uri": "https://localhost:8080/",
          "height": 282
        },
        "id": "_1hsgZs2VYQ2",
        "outputId": "ecdafe4e-18ce-4f85-ac0d-5b75172f4a21"
      },
      "execution_count": 11,
      "outputs": [
        {
          "output_type": "stream",
          "name": "stdout",
          "text": [
            "[1.3721 0.5698]\n"
          ]
        },
        {
          "output_type": "display_data",
          "data": {
            "image/png": "[encoded data removed]",
            "text/plain": [
              "<Figure size 432x288 with 1 Axes>"
            ]
          },
          "metadata": {
            "needs_background": "light"
          }
        }
      ]
    },
    {
      "cell_type": "markdown",
      "source": [
        "予測"
      ],
      "metadata": {
        "id": "A0ON-TfsVqS8"
      }
    },
    {
      "cell_type": "code",
      "source": [
        "def lm_predict (x,w):\n",
        "  yhat = w[0]+w[1]*x\n",
        "  return yhat\n",
        "def lm_error (x,y,w):\n",
        "  yhat = lm_predict (x,w)\n",
        "  return (y - yhat)**2\n",
        "def lm_errors (X,w):\n",
        "  return np.array([lm_error(x[0],x[1],w) for x in X])\n",
        "def lm_mse (X,w):\n",
        "  errors = lm_errors(X,w)\n",
        "  print(mean(errors))"
      ],
      "metadata": {
        "id": "VY9Jr7qkVsSc"
      },
      "execution_count": 15,
      "outputs": []
    },
    {
      "cell_type": "code",
      "source": [
        "w = linear_model(X)\n",
        "print(w)"
      ],
      "metadata": {
        "colab": {
          "base_uri": "https://localhost:8080/"
        },
        "id": "T3bVKFBxVw0a",
        "outputId": "b8715ab6-10df-4f65-b6e0-6f20ddb7f847"
      },
      "execution_count": 13,
      "outputs": [
        {
          "output_type": "stream",
          "name": "stdout",
          "text": [
            "[1.7692 0.4231]\n"
          ]
        }
      ]
    },
    {
      "cell_type": "code",
      "source": [
        "lm_errors(X2, w)"
      ],
      "metadata": {
        "colab": {
          "base_uri": "https://localhost:8080/"
        },
        "id": "x7_XkNEsXJFs",
        "outputId": "ddd08072-55c9-47f9-b81b-1ed260c458ef"
      },
      "execution_count": 16,
      "outputs": [
        {
          "output_type": "execute_result",
          "data": {
            "text/plain": [
              "array([ 0.1479,  2.1361, 10.1908, 14.2071,  4.8062])"
            ]
          },
          "metadata": {},
          "execution_count": 16
        }
      ]
    },
    {
      "cell_type": "code",
      "source": [
        "lm_mse(X2, w)"
      ],
      "metadata": {
        "colab": {
          "base_uri": "https://localhost:8080/"
        },
        "id": "djmck-OzXTJJ",
        "outputId": "eef8a9ae-86bc-473b-aec1-c1e8f7fec2bb"
      },
      "execution_count": 17,
      "outputs": [
        {
          "output_type": "stream",
          "name": "stdout",
          "text": [
            "6.297633136094676\n"
          ]
        }
      ]
    },
    {
      "cell_type": "markdown",
      "source": [
        "tensorflowで単回帰分析"
      ],
      "metadata": {
        "id": "8kSXnJPuYCD6"
      }
    },
    {
      "cell_type": "code",
      "source": [
        "import tensorflow as tf\n",
        "from sklearn.datasets import load_boston\n",
        "import seaborn as sns\n",
        "from pandas import DataFrame\n",
        "from sklearn.linear_model import LinearRegression\n",
        "sns.set()\n",
        "boston = load_boston()\n",
        "\n",
        "boston_df = DataFrame(boston.data)\n",
        "boston_df.columns = boston.feature_names\n",
        "\n",
        "X_multiple_data = boston_df.copy()\n",
        "Y_target = boston.target"
      ],
      "metadata": {
        "colab": {
          "base_uri": "https://localhost:8080/"
        },
        "id": "yinmsbs0YI6P",
        "outputId": "682ac1fd-1b3c-4f77-add2-4f1ec78224e5"
      },
      "execution_count": 20,
      "outputs": [
        {
          "output_type": "stream",
          "name": "stderr",
          "text": [
            "/usr/local/lib/python3.7/dist-packages/sklearn/utils/deprecation.py:87: FutureWarning: Function load_boston is deprecated; `load_boston` is deprecated in 1.0 and will be removed in 1.2.\n",
            "\n",
            "    The Boston housing prices dataset has an ethical problem. You can refer to\n",
            "    the documentation of this function for further details.\n",
            "\n",
            "    The scikit-learn maintainers therefore strongly discourage the use of this\n",
            "    dataset unless the purpose of the code is to study and educate about\n",
            "    ethical issues in data science and machine learning.\n",
            "\n",
            "    In this special case, you can fetch the dataset from the original\n",
            "    source::\n",
            "\n",
            "        import pandas as pd\n",
            "        import numpy as np\n",
            "\n",
            "\n",
            "        data_url = \"http://lib.stat.cmu.edu/datasets/boston\"\n",
            "        raw_df = pd.read_csv(data_url, sep=\"\\s+\", skiprows=22, header=None)\n",
            "        data = np.hstack([raw_df.values[::2, :], raw_df.values[1::2, :2]])\n",
            "        target = raw_df.values[1::2, 2]\n",
            "\n",
            "    Alternative datasets include the California housing dataset (i.e.\n",
            "    :func:`~sklearn.datasets.fetch_california_housing`) and the Ames housing\n",
            "    dataset. You can load the datasets as follows::\n",
            "\n",
            "        from sklearn.datasets import fetch_california_housing\n",
            "        housing = fetch_california_housing()\n",
            "\n",
            "    for the California housing dataset and::\n",
            "\n",
            "        from sklearn.datasets import fetch_openml\n",
            "        housing = fetch_openml(name=\"house_prices\", as_frame=True)\n",
            "\n",
            "    for the Ames housing dataset.\n",
            "    \n",
            "  warnings.warn(msg, category=FutureWarning)\n"
          ]
        }
      ]
    },
    {
      "cell_type": "code",
      "source": [
        "print(X_multiple_data.shape)\n",
        "print(Y_target.shape)"
      ],
      "metadata": {
        "colab": {
          "base_uri": "https://localhost:8080/"
        },
        "id": "zguf3kPKYvSv",
        "outputId": "5011f801-5154-489c-ec15-1ea6c57b2169"
      },
      "execution_count": 19,
      "outputs": [
        {
          "output_type": "stream",
          "name": "stdout",
          "text": [
            "(506, 13)\n",
            "(506,)\n"
          ]
        }
      ]
    },
    {
      "cell_type": "code",
      "source": [
        "X = boston_df['RM']\n",
        "X = np.array(X).reshape(-1,1) # (-1, n)でnからもう一方を推測\n",
        "\n",
        "model = LinearRegression()\n",
        "model.fit(X, Y_target)\n",
        "predict_data = model.predict(X)\n",
        "fig = plt.figure()\n",
        "ax = fig.add_subplot(111)\n",
        "ax.plot(X, Y_target, 'o')\n",
        "ax.plot(X, predict_data)\n",
        "plt.show()"
      ],
      "metadata": {
        "colab": {
          "base_uri": "https://localhost:8080/",
          "height": 268
        },
        "id": "xb2-WBwHY5mB",
        "outputId": "c3820dd8-27b5-4419-bd35-4e719c2b3f2f"
      },
      "execution_count": 24,
      "outputs": [
        {
          "output_type": "display_data",
          "data": {
            "image/png": "[encoded data removed]",
            "text/plain": [
              "<Figure size 432x288 with 1 Axes>"
            ]
          },
          "metadata": {}
        }
      ]
    }
  ]
}